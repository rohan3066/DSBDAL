{
 "cells": [
  {
   "cell_type": "code",
   "execution_count": 1,
   "id": "f55b5593-5f23-47f2-aa14-dea408e2b136",
   "metadata": {},
   "outputs": [],
   "source": [
    "import matplotlib.pyplot as plt\n",
    "import numpy as np\n",
    "import pandas as pd"
   ]
  },
  {
   "cell_type": "code",
   "execution_count": 3,
   "id": "f1ce0fa7-fe21-4f32-985c-61c765be83c4",
   "metadata": {},
   "outputs": [],
   "source": [
    "# Assuming the data is loaded from the provided CSV\n",
    "data = pd.read_csv('heart.csv')\n",
    "\n",
    "# Setting up the plot style\n",
    "plt.style.use('ggplot')"
   ]
  },
  {
   "cell_type": "code",
   "execution_count": 4,
   "id": "4909922c-44ed-4b7f-a560-1a1ed5c1d2d4",
   "metadata": {},
   "outputs": [],
   "source": [
    "def plot_histograms():\n",
    "    continuous_vars = ['age', 'trestbps', 'chol', 'thalach', 'oldpeak']\n",
    "    fig, axes = plt.subplots(3, 2, figsize=(12, 10))\n",
    "    axes = axes.ravel()\n",
    "    \n",
    "    for idx, var in enumerate(continuous_vars):\n",
    "        axes[idx].hist(data[var], bins=30, edgecolor='black')\n",
    "        axes[idx].set_title(f'Distribution of {var}')\n",
    "        axes[idx].set_xlabel(var)\n",
    "        axes[idx].set_ylabel('Frequency')\n",
    "    \n",
    "    axes[-1].axis('off')  # Hide the last empty subplot\n",
    "    plt.tight_layout()\n",
    "    plt.savefig('histograms.png')\n",
    "    plt.close()"
   ]
  },
  {
   "cell_type": "code",
   "execution_count": 5,
   "id": "b52c57cd-16de-40ce-8e31-06bb254da636",
   "metadata": {},
   "outputs": [],
   "source": [
    "# b. Pie Charts\n",
    "# Objective: Show the proportion of categorical variables and target variable\n",
    "def plot_pie_charts():\n",
    "    categorical_vars = ['sex', 'cp', 'fbs', 'restecg', 'exang', 'target']\n",
    "    fig, axes = plt.subplots(2, 3, figsize=(15, 8))\n",
    "    axes = axes.ravel()\n",
    "    \n",
    "    for idx, var in enumerate(categorical_vars):\n",
    "        value_counts = data[var].value_counts()\n",
    "        axes[idx].pie(value_counts, labels=value_counts.index, autopct='%1.1f%%')\n",
    "        axes[idx].set_title(f'Proportion of {var}')\n",
    "    \n",
    "    plt.tight_layout()\n",
    "    plt.savefig('pie_charts.png')\n",
    "    plt.close()"
   ]
  },
  {
   "cell_type": "code",
   "execution_count": 6,
   "id": "7d22b614-5ccf-468e-a981-a23e137bce95",
   "metadata": {},
   "outputs": [],
   "source": [
    "# c. Box Plots\n",
    "# Objective: Examine the spread and outliers in continuous variables by target\n",
    "def plot_box_plots():\n",
    "    continuous_vars = ['age', 'trestbps', 'chol', 'thalach', 'oldpeak']\n",
    "    fig, axes = plt.subplots(3, 2, figsize=(12, 10))\n",
    "    axes = axes.ravel()\n",
    "    \n",
    "    for idx, var in enumerate(continuous_vars):\n",
    "        data.boxplot(column=var, by='target', ax=axes[idx])\n",
    "        axes[idx].set_title(f'{var} by Heart Disease')\n",
    "        axes[idx].set_xlabel('Heart Disease (0 = No, 1 = Yes)')\n",
    "        axes[idx].set_ylabel(var)\n",
    "    \n",
    "    axes[-1].axis('off')\n",
    "    plt.tight_layout()\n",
    "    plt.suptitle('')  # Remove default title\n",
    "    plt.savefig('box_plots.png')\n",
    "    plt.close()"
   ]
  },
  {
   "cell_type": "code",
   "execution_count": 7,
   "id": "a1c307e1-6db9-4677-9e6f-9b71d165e5c8",
   "metadata": {},
   "outputs": [],
   "source": [
    "# d. Scatter Plots\n",
    "# Objective: Explore relationships between pairs of continuous variables\n",
    "def plot_scatter_plots():\n",
    "    fig, axes = plt.subplots(2, 2, figsize=(12, 10))\n",
    "    axes = axes.ravel()\n",
    "    \n",
    "    scatter_pairs = [\n",
    "        ('age', 'thalach'),\n",
    "        ('trestbps', 'chol'),\n",
    "        ('chol', 'thalach'),\n",
    "        ('age', 'oldpeak')\n",
    "    ]\n",
    "    \n",
    "    for idx, (x_var, y_var) in enumerate(scatter_pairs):\n",
    "        scatter = axes[idx].scatter(data[x_var], data[y_var], \n",
    "                                  c=data['target'], cmap='viridis')\n",
    "        axes[idx].set_xlabel(x_var)\n",
    "        axes[idx].set_ylabel(y_var)\n",
    "        axes[idx].set_title(f'{y_var} vs {x_var}')\n",
    "        plt.colorbar(scatter, ax=axes[idx], label='Heart Disease')\n",
    "    \n",
    "    plt.tight_layout()\n",
    "    plt.savefig('scatter_plots.png')\n",
    "    plt.close()"
   ]
  },
  {
   "cell_type": "code",
   "execution_count": 8,
   "id": "16501bff-58e4-4354-8c4b-c1477cdfb61b",
   "metadata": {},
   "outputs": [],
   "source": [
    "# e. Scatter Plot with Box Plots\n",
    "# Objective: Combine distribution and relationship visualization for key variables\n",
    "def plot_scatter_with_boxplots():\n",
    "    fig = plt.figure(figsize=(10, 8))\n",
    "    \n",
    "    # Define the main scatter plot\n",
    "    scatter_ax = fig.add_axes([0.2, 0.2, 0.6, 0.6])\n",
    "    scatter = scatter_ax.scatter(data['age'], data['thalach'], \n",
    "                              c=data['target'], cmap='viridis')\n",
    "    scatter_ax.set_xlabel('Age')\n",
    "    scatter_ax.set_ylabel('Maximum Heart Rate (thalach)')\n",
    "    scatter_ax.set_title('Maximum Heart Rate vs Age with Distributions')\n",
    "    \n",
    "    # Add boxplot for x-axis (age)\n",
    "    box_x_ax = fig.add_axes([0.2, 0.1, 0.6, 0.1])\n",
    "    box_x_ax.boxplot([data[data['target'] == 0]['age'], \n",
    "                     data[data['target'] == 1]['age']],\n",
    "                    vert=False)\n",
    "    box_x_ax.set_yticks([1, 2])\n",
    "    box_x_ax.set_yticklabels(['No Disease', 'Disease'])\n",
    "    box_x_ax.set_xlabel('Age')\n",
    "    \n",
    "    # Add boxplot for y-axis (thalach)\n",
    "    box_y_ax = fig.add_axes([0.1, 0.2, 0.1, 0.6])\n",
    "    box_y_ax.boxplot([data[data['target'] == 0]['thalach'], \n",
    "                     data[data['target'] == 1]['thalach']])\n",
    "    box_y_ax.set_xticks([1, 2])\n",
    "    box_y_ax.set_xticklabels(['No Disease', 'Disease'])\n",
    "    box_y_ax.set_ylabel('Maximum Heart Rate')\n",
    "    \n",
    "    plt.colorbar(scatter, ax=scatter_ax, label='Heart Disease')\n",
    "    plt.savefig('scatter_with_boxplots.png')\n",
    "    plt.close()"
   ]
  },
  {
   "cell_type": "code",
   "execution_count": 14,
   "id": "66d4972a-b472-4abc-b30a-a300747f4a90",
   "metadata": {},
   "outputs": [],
   "source": [
    "\n",
    "# Execute all visualizations\n",
    "plot_histograms()\n",
    "plot_pie_charts()\n",
    "plot_box_plots()\n",
    "plot_scatter_plots()\n",
    "plot_scatter_with_boxplots()"
   ]
  },
  {
   "cell_type": "code",
   "execution_count": 13,
   "id": "082c82a6-a97a-457c-b63e-f74ba2640a2d",
   "metadata": {},
   "outputs": [],
   "source": []
  },
  {
   "cell_type": "code",
   "execution_count": null,
   "id": "d0a3b36b-f362-4aef-92c8-cfa0bc42386f",
   "metadata": {},
   "outputs": [],
   "source": []
  }
 ],
 "metadata": {
  "kernelspec": {
   "display_name": "Python 3 (ipykernel)",
   "language": "python",
   "name": "python3"
  },
  "language_info": {
   "codemirror_mode": {
    "name": "ipython",
    "version": 3
   },
   "file_extension": ".py",
   "mimetype": "text/x-python",
   "name": "python",
   "nbconvert_exporter": "python",
   "pygments_lexer": "ipython3",
   "version": "3.12.4"
  }
 },
 "nbformat": 4,
 "nbformat_minor": 5
}
